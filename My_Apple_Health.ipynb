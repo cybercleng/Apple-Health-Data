{
 "cells": [
  {
   "cell_type": "markdown",
   "id": "4f0bdce7",
   "metadata": {},
   "source": [
    "# My Apple Health"
   ]
  },
  {
   "cell_type": "markdown",
   "id": "e9089b79",
   "metadata": {},
   "source": [
    "### Importing libraries"
   ]
  },
  {
   "cell_type": "code",
   "execution_count": 11,
   "id": "c2df0e7e",
   "metadata": {},
   "outputs": [],
   "source": [
    "import xml.etree.ElementTree as ET\n",
    "import pandas as pd\n",
    "import numpy as np"
   ]
  },
  {
   "cell_type": "markdown",
   "id": "985ceb51",
   "metadata": {},
   "source": [
    "###  Reading the file"
   ]
  },
  {
   "cell_type": "code",
   "execution_count": 8,
   "id": "736430d1",
   "metadata": {},
   "outputs": [],
   "source": [
    "# create element tree object \n",
    "tree = ET.parse('export.xml') \n",
    "\n",
    "# for every health record, extract the attributes into a dictionary (columns). Then create a list (rows).\n",
    "root = tree.getroot()\n",
    "record_list = [x.attrib for x in root.iter('Record')]\n",
    "\n",
    "# create DataFrame from a list (rows) of dictionaries (columns)\n",
    "data = pd.DataFrame(record_list)\n",
    "\n",
    "# proper type to dates\n",
    "for col in ['creationDate', 'startDate', 'endDate']:\n",
    "    data[col] = pd.to_datetime(data[col])\n",
    "\n",
    "# value is numeric, NaN if fails\n",
    "data['value'] = pd.to_numeric(data['value'], errors='coerce')\n",
    "\n",
    "# some records do not measure anything, just count occurences\n",
    "# filling with 1.0 (= one time) makes it easier to aggregate\n",
    "data['value'] = data['value'].fillna(1.0)\n",
    "\n",
    "# shorter observation names: use vectorized replace function\n",
    "data['type'] = data['type'].str.replace('HKQuantityTypeIdentifier', '')\n",
    "data['type'] = data['type'].str.replace('HKCategoryTypeIdentifier', '')\n"
   ]
  },
  {
   "cell_type": "markdown",
   "id": "fdb3cdfb",
   "metadata": {},
   "source": [
    "### Creating a date column that doesn't include the time, convert to date type"
   ]
  },
  {
   "cell_type": "markdown",
   "id": "01074305",
   "metadata": {},
   "source": [
    "splitting after date column"
   ]
  },
  {
   "cell_type": "code",
   "execution_count": 14,
   "id": "52663eec",
   "metadata": {},
   "outputs": [],
   "source": [
    "data['date'] = [d.date() for d in data['creationDate']]"
   ]
  },
  {
   "cell_type": "markdown",
   "id": "a0bb05e7",
   "metadata": {},
   "source": [
    "create new column and split info to exclude time"
   ]
  },
  {
   "cell_type": "code",
   "execution_count": 64,
   "id": "8db5afb5",
   "metadata": {
    "scrolled": true
   },
   "outputs": [],
   "source": [
    "data['creationDate'] = pd.to_datetime(data['creationDate'])\n",
    "data['date'] = pd.to_datetime(data['date'])"
   ]
  },
  {
   "cell_type": "markdown",
   "id": "5fcaf336",
   "metadata": {},
   "source": [
    "### Bodymass trend"
   ]
  },
  {
   "cell_type": "markdown",
   "id": "97e2ce6e",
   "metadata": {},
   "source": [
    "Subsetting for type, date an value"
   ]
  },
  {
   "cell_type": "code",
   "execution_count": 65,
   "id": "12ff7180",
   "metadata": {},
   "outputs": [],
   "source": [
    "type_date_value = data[[\"type\", \"date\",\"value\"]]"
   ]
  },
  {
   "cell_type": "markdown",
   "id": "bf1bb2e1",
   "metadata": {},
   "source": [
    "Selecting bodymass type"
   ]
  },
  {
   "cell_type": "code",
   "execution_count": 66,
   "id": "248767b3",
   "metadata": {
    "scrolled": true
   },
   "outputs": [],
   "source": [
    "body_mass_only = type_date_value[(data[\"type\"] == \"BodyMass\")]"
   ]
  },
  {
   "cell_type": "markdown",
   "id": "0fe45478",
   "metadata": {},
   "source": [
    "Plotting a graph"
   ]
  },
  {
   "cell_type": "code",
   "execution_count": 18,
   "id": "3117357b",
   "metadata": {},
   "outputs": [
    {
     "data": {
      "image/png": "[encoded data removed]",
      "text/plain": [
       "<Figure size 432x288 with 1 Axes>"
      ]
     },
     "metadata": {
      "needs_background": "light"
     },
     "output_type": "display_data"
    }
   ],
   "source": [
    "import matplotlib.pyplot as plt\n",
    "body_mass_only.plot(x=\"date\", y=\"value\", kind=\"line\")\n",
    "plt.show()"
   ]
  },
  {
   "cell_type": "markdown",
   "id": "bbb7b3d3",
   "metadata": {},
   "source": [
    "### What are all the types of data captured and what is their median value?"
   ]
  },
  {
   "cell_type": "code",
   "execution_count": 19,
   "id": "621f7062",
   "metadata": {},
   "outputs": [
    {
     "data": {
      "text/plain": [
       "type\n",
       "ActiveEnergyBurned                  0.377000\n",
       "AppleExerciseTime                   1.000000\n",
       "AppleStandHour                      1.000000\n",
       "AppleStandTime                      2.000000\n",
       "AppleWalkingSteadiness              1.000000\n",
       "AudioExposureEvent                  1.000000\n",
       "BasalEnergyBurned                   0.336000\n",
       "BodyMass                           88.500000\n",
       "DistanceCycling                     0.002558\n",
       "DistanceSwimming                   25.000000\n",
       "DistanceWalkingRunning              0.011206\n",
       "EnvironmentalAudioExposure         64.201200\n",
       "FlightsClimbed                      2.000000\n",
       "HKDataTypeSleepDurationGoal         8.000000\n",
       "HeadphoneAudioExposure             64.499500\n",
       "HeadphoneAudioExposureEvent         1.000000\n",
       "HeartRate                          89.000000\n",
       "HeartRateVariabilitySDNN           41.479700\n",
       "Height                              5.839900\n",
       "MindfulSession                      1.000000\n",
       "OxygenSaturation                    0.970000\n",
       "RespiratoryRate                    16.000000\n",
       "RestingHeartRate                   65.000000\n",
       "SixMinuteWalkTestDistance         500.000000\n",
       "SleepAnalysis                       1.000000\n",
       "StairAscentSpeed                    0.301402\n",
       "StairDescentSpeed                   0.336069\n",
       "StepCount                          29.000000\n",
       "SwimmingStrokeCount                13.000000\n",
       "VO2Max                             42.395000\n",
       "WalkingAsymmetryPercentage          0.000000\n",
       "WalkingDoubleSupportPercentage      0.295000\n",
       "WalkingHeartRateAverage           100.000000\n",
       "WalkingSpeed                        4.428000\n",
       "WalkingStepLength                  68.000000\n",
       "Name: value, dtype: float64"
      ]
     },
     "execution_count": 19,
     "metadata": {},
     "output_type": "execute_result"
    }
   ],
   "source": [
    "data.groupby(\"type\")[\"value\"].median()"
   ]
  },
  {
   "cell_type": "markdown",
   "id": "dd558e24",
   "metadata": {},
   "source": [
    "### Graph of your heartrate variability over the last month"
   ]
  },
  {
   "cell_type": "code",
   "execution_count": 67,
   "id": "c5a79f8e",
   "metadata": {},
   "outputs": [],
   "source": [
    "HRV = type_date_value[(data[\"type\"] == \"HeartRateVariabilitySDNN\")]"
   ]
  },
  {
   "cell_type": "code",
   "execution_count": 68,
   "id": "e3a8ef01",
   "metadata": {},
   "outputs": [],
   "source": [
    "#HRV = HRV.set_index('date').sort_index()\n",
    "HRV_month = HRV.loc['2022-06-10':'2022-07-11']"
   ]
  },
  {
   "cell_type": "code",
   "execution_count": 54,
   "id": "a3223dcf",
   "metadata": {},
   "outputs": [
    {
     "data": {
      "image/png": "[encoded data removed]",
      "text/plain": [
       "<Figure size 432x288 with 1 Axes>"
      ]
     },
     "metadata": {
      "needs_background": "light"
     },
     "output_type": "display_data"
    }
   ],
   "source": [
    "import matplotlib.pyplot as plt\n",
    "HRV_month.plot(y=\"value\", kind=\"line\")\n",
    "plt.show()"
   ]
  }
 ],
 "metadata": {
  "kernelspec": {
   "display_name": "Python 3 (ipykernel)",
   "language": "python",
   "name": "python3"
  },
  "language_info": {
   "codemirror_mode": {
    "name": "ipython",
    "version": 3
   },
   "file_extension": ".py",
   "mimetype": "text/x-python",
   "name": "python",
   "nbconvert_exporter": "python",
   "pygments_lexer": "ipython3",
   "version": "3.9.12"
  }
 },
 "nbformat": 4,
 "nbformat_minor": 5
}
